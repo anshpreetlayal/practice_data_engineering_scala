{
 "cells": [
  {
   "cell_type": "markdown",
   "metadata": {},
   "source": [
    "## **Parallel Computing**\n",
    "\n",
    "Parallel computing in Scala involves using concurrent and parallel programming techniques to utilize multiple processing units, such as CPU cores, simultaneously. This approach enhances performance and efficiency by dividing tasks into smaller parts that can be processed concurrently.\n",
    "\n",
    "### **Key Features and Libraries**\n",
    "\n",
    "1. **Parallel Collections**: Scala offers parallel implementations of common collection types like `ParArray`, `ParSeq`, `ParSet`, and `ParMap`. These collections allow operations to be executed in parallel, leveraging multi-core processors.\n",
    "\n",
    "2. **Futures and Promises**: Scala's `Future` and `Promise` classes facilitate asynchronous and potentially parallel computations. Futures represent asynchronous tasks, while promises produce values for these tasks.\n",
    "\n",
    "3. **Concurrency Utilities**: Scala provides utilities for managing concurrent computations, including `ExecutionContext` for managing thread pools, `Atomic` types for atomic operations, and `ConcurrentMap` for concurrent access to mutable maps.\n",
    "\n",
    "4. **Actor Model**: The `akka` library implements the actor model, enabling concurrent and distributed computing. Actors are lightweight entities that communicate via messages, enabling scalable and responsive systems.\n",
    "\n",
    "5. **Parallel Algorithms**: Scala offers parallel versions of common algorithms (e.g., `map`, `reduce`, `filter`), which can be used with parallel collections to exploit multi-core processors.\n",
    "\n",
    "### **`Classes of Parallel Computers`**\n",
    "\n",
    "1. **Multi-core Processors**: These processors have multiple cores on a single chip, allowing for parallel execution of tasks.\n",
    "\n",
    "2. **Symmetric Multiprocessors (SMP)**: SMP systems have multiple processors that share memory and execute tasks concurrently.\n",
    "\n",
    "3. **General-Purpose Graphics Processing Units (GPGPU)**: GPUs are used for rendering graphics but can also perform general-purpose parallel computing tasks.\n",
    "\n",
    "4. **Field-Programmable Gate Arrays (FPGAs)**: FPGAs can be reconfigured post-manufacturing and offer parallel processing capabilities for specialized tasks.\n",
    "\n",
    "5. **Computer Clusters**: Clusters consist of interconnected computers (nodes) that collaborate on tasks, providing scalable parallel computing.\n",
    "\n"
   ]
  }
 ],
 "metadata": {
  "language_info": {
   "name": "python"
  }
 },
 "nbformat": 4,
 "nbformat_minor": 2
}
