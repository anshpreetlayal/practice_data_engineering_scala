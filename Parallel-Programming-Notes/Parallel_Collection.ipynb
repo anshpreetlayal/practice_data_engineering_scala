{
 "cells": [
  {
   "cell_type": "markdown",
   "metadata": {},
   "source": [
    "### **Parallelizable Collections**\n",
    "\n",
    "Parallelizable collections in Scala are those that can be efficiently parallelized for concurrent processing. These collections provide methods or operations that can be executed in parallel, leveraging multiple processing units to improve performance. Examples of parallelizable collections in Scala include `ParArray`, `ParSeq`, `ParSet`, and `ParMap`.\n",
    "\n",
    "#### Example:\n",
    "\n",
    "```scala\n",
    "val numbers = (1 to 1000000).toArray\n",
    "val parallelArray = numbers.par // Convert array to parallel collection\n",
    "val sum = parallelArray.fold(0)(_ + _) // Perform parallel fold operation\n",
    "```\n",
    "\n",
    "In this example, `numbers` is converted to a parallel array using the `par` method, allowing the `fold` operation to be executed in parallel, potentially speeding up the computation.\n",
    "\n",
    "### **Non-Parallelizable Collections**\n",
    "\n",
    "Non-parallelizable collections in Scala are those that do not support efficient parallel processing. Operations on these collections are typically executed sequentially and cannot take advantage of parallelism. Examples of non-parallelizable collections include `List`, `Seq`, `Set`, and `Map`.\n",
    "\n",
    "#### Example:\n",
    "\n",
    "```scala\n",
    "val list = List(1, 2, 3, 4, 5)\n",
    "val sum = list.fold(0)(_ + _) // Sequential fold operation\n",
    "```\n",
    "\n",
    "In this example, `list` is a regular `List`, and the `fold` operation is performed sequentially, as `List` does not support parallel operations.\n",
    "\n",
    "### Choosing Between Parallelizable and Non-Parallelizable Collections\n",
    "The choice between parallelizable and non-parallelizable collections depends on the specific requirements of your application. If you need to perform operations that can be parallelized and want to take advantage of multi-core processors, parallelizable collections are suitable. However, if your operations are inherently sequential or the overhead of parallelization outweighs the benefits, non-parallelizable collections may be more appropriate."
   ]
  }
 ],
 "metadata": {
  "language_info": {
   "name": "python"
  }
 },
 "nbformat": 4,
 "nbformat_minor": 2
}
