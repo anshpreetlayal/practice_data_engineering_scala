{
 "cells": [
  {
   "cell_type": "markdown",
   "metadata": {},
   "source": [
    "**Monoid Type Class in Scala**\n",
    "\n",
    "Monoids are algebraic structures that consist of a set, an associative binary operation, and an identity element for that operation. In Scala, monoids are commonly used to represent operations that can be combined in an associative manner and have an identity element that does not affect the result when combined with other elements.\n",
    "\n",
    "### Monoid Type Class Definition\n",
    "\n",
    "```scala\n",
    "trait Monoid[A] {\n",
    "  def empty: A\n",
    "  def combine(x: A, y: A): A\n",
    "}\n",
    "```\n",
    "\n",
    "### Monoid Instances for Integers and Strings\n",
    "\n",
    "```scala\n",
    "given Monoid[Int] with {\n",
    "  def empty: Int = 0\n",
    "  def combine(x: Int, y: Int): Int = x + y\n",
    "}\n",
    "\n",
    "given Monoid[String] with {\n",
    "  def empty: String = \"\"\n",
    "  def combine(x: String, y: String): String = x + y\n",
    "}\n",
    "```\n",
    "\n",
    "### Usage of Monoid\n",
    "\n",
    "```scala\n",
    "def combineAll[A](list: List[A])(using m: Monoid[A]): A =\n",
    "  list.foldLeft(m.empty)(m.combine)\n",
    "\n",
    "val intList = List(1, 2, 3, 4, 5)\n",
    "println(combineAll(intList)) // Output: 15\n",
    "\n",
    "val stringList = List(\"Hello, \", \"Scala, \", \"World!\")\n",
    "println(combineAll(stringList)) // Output: Hello, Scala, World!\n",
    "```"
   ]
  }
 ],
 "metadata": {
  "language_info": {
   "name": "python"
  }
 },
 "nbformat": 4,
 "nbformat_minor": 2
}
