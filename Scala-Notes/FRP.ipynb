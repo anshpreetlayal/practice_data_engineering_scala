{
 "cells": [
  {
   "cell_type": "markdown",
   "metadata": {},
   "source": [
    "## **Functional Reactive Programming**\n",
    "Functional Reactive Programming (FRP) is a paradigm for writing software that deals with asynchronous data streams and time-varying values. FRP is based on the concept of signals, which are values that change over time, and streams, which are sequences of values over time. FRP allows developers to declaratively define how these signals and streams are transformed and combined, leading to more concise and maintainable code for handling complex asynchronous behavior.\n",
    "\n",
    "Key concepts in FRP include:\n",
    "\n",
    "1. **Signals:** Signals represent time-varying values. They can be thought of as functions of time, where the value of the signal at any point in time is the current value of the function. Signals can be transformed and combined using various operations.\n",
    "\n",
    "2. **Streams:** Streams are sequences of values that change over time. They can be thought of as a series of events occurring over time. Streams can be created from various sources, such as user inputs, network events, or timer ticks.\n",
    "\n",
    "3. **Event Handling:** FRP provides abstractions for handling events in a declarative manner. Instead of imperatively registering event handlers, FRP allows developers to define how events should be processed using higher-order functions.\n",
    "\n",
    "4. **Combinators:** FRP provides combinators, which are higher-order functions that operate on signals and streams. Combinators allow developers to combine and transform signals and streams in a declarative manner, leading to more concise and readable code.\n",
    "\n",
    "5. **Time Handling:** FRP provides abstractions for handling time, such as timers and delays. These abstractions allow developers to define time-dependent behavior in a declarative manner.\n",
    "\n",
    "\n",
    "Example in Scala using the Monix library:\n",
    "\n",
    "```scala\n",
    "import monix.eval.{Task, TaskApp}\n",
    "import monix.reactive.Observable\n",
    "import monix.reactive.subjects.PublishSubject\n",
    "\n",
    "object FRPExample extends TaskApp {\n",
    "\n",
    "  def run(args: List[String]): Task[Unit] = {\n",
    "    val subject = PublishSubject[Int]\n",
    "\n",
    "    val observable = subject.map(_ * 2)\n",
    "    \n",
    "    val subscription = observable.subscribe { value =>\n",
    "      println(s\"Received value: $value\")\n",
    "    }\n",
    "\n",
    "    Task.delay {\n",
    "      subject.onNext(1)\n",
    "      subject.onNext(2)\n",
    "      subject.onNext(3)\n",
    "      subscription.cancel() // Cancel the subscription\n",
    "    }\n",
    "  }\n",
    "}\n",
    "// for this example, we create a `PublishSubject` from the Monix library, which is a type of subject that acts as both an observer and an observable. We then create an `Observable` by mapping over the `PublishSubject` to double the values. Finally, we subscribe to the `Observable` to receive and print the transformed values.\n",
    "```\n",
    "\n"
   ]
  }
 ],
 "metadata": {
  "language_info": {
   "name": "python"
  }
 },
 "nbformat": 4,
 "nbformat_minor": 2
}
