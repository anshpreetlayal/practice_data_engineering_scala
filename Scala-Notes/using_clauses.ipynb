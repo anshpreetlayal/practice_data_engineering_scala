{
 "cells": [
  {
   "cell_type": "markdown",
   "metadata": {},
   "source": [
    "### **Using Clauses**\n",
    "\n",
    "Using clauses in Scala 3 provide a concise syntax for defining and using given instances within a block of code. They allow you to define local instances that are only in scope within that block, providing more control over implicit resolution.\n",
    "- Using clauses are introduced with the `using` keyword followed by a block of code.\n",
    "- Inside the block, you can define local instances using the `given` keyword.\n",
    "- These local instances are only visible within the block and can be used to control implicit resolution.\n",
    "\n",
    "#### Usage:\n",
    "\n",
    "1. **Defining Local Instances:**\n",
    "\n",
    "   ```scala\n",
    "   trait Show[A] {\n",
    "     def show(value: A): String\n",
    "   }\n",
    "\n",
    "   // Global instance\n",
    "   given Show[String] {\n",
    "     def show(value: String): String = s\"String: $value\"\n",
    "   }\n",
    "\n",
    "   // Using clause with a local instance\n",
    "   val result = using {\n",
    "     given Show[Int] {\n",
    "       def show(value: Int): String = s\"Int: $value\"\n",
    "     }\n",
    "     show(42) // Using the local Show[Int]\n",
    "   }\n",
    "\n",
    "   println(result) // Output: Int: 42\n",
    "   ```\n",
    "\n",
    "   Here, the `using` clause introduces a local scope where a custom `Show[Int]` instance is defined. This local instance is used to show the integer value `42`.\n",
    "\n",
    "2. **Nesting Using Clauses:**\n",
    "\n",
    "   ```scala\n",
    "   val result = using {\n",
    "     given Show[Int] {\n",
    "       def show(value: Int): String = s\"Int: $value\"\n",
    "     }\n",
    "     using {\n",
    "       given Show[Boolean] {\n",
    "         def show(value: Boolean): String = s\"Boolean: $value\"\n",
    "       }\n",
    "       (show(42), show(true)) // Using the local Show[Int] and Show[Boolean]\n",
    "     }\n",
    "   }\n",
    "\n",
    "   println(result) // Output: (Int: 42, Boolean: true)\n",
    "   ```\n",
    "   Using clauses can be nested, allowing you to define different local instances at different levels of scope. This example shows how to use nested using clauses to define and use local `Show` instances for `Int` and `Boolean` types.\n"
   ]
  }
 ],
 "metadata": {
  "language_info": {
   "name": "python"
  }
 },
 "nbformat": 4,
 "nbformat_minor": 2
}
