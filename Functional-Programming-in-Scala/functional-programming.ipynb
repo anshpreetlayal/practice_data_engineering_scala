{
 "cells": [
  {
   "cell_type": "markdown",
   "metadata": {},
   "source": [
    "# Higher order functions\n",
    "## Higher-order functions in Scala are functions that either take functions as parameters, return functions, or both. They are a powerful concept in functional programming and are commonly used in Scala. Here are some key points and examples to understand higher-order functions in Scala:\n",
    "\n",
    "1. **Functions as Parameters**: In Scala, you can pass functions as parameters to other functions. This allows you to abstract over actions, making your code more reusable and expressive.\n",
    "\n",
    "   ```scala\n",
    "   def applyFunction(f: Int => Int, x: Int): Int = f(x)\n",
    "\n",
    "   val square = (x: Int) => x * x\n",
    "   val result = applyFunction(square, 5) // result = 25\n",
    "   ```\n",
    "\n",
    "2. **Functions as Return Values**: You can also define functions that return other functions. This is useful for creating functions with different behavior based on some conditions.\n",
    "\n",
    "   ```scala\n",
    "   def createMultiplier(factor: Int): Int => Int = (x: Int) => x * factor\n",
    "\n",
    "   val multiplyByTwo = createMultiplier(2)\n",
    "   val result = multiplyByTwo(5) // result = 10\n",
    "   ```\n",
    "\n",
    "3. **Anonymous Functions**: Scala allows you to define functions inline without giving them a name, which is useful for short-lived functions.\n",
    "\n",
    "   ```scala\n",
    "   val addOne = (x: Int) => x + 1\n",
    "   ```\n",
    "\n",
    "4. **Function Types**: Scala uses arrow notation (`=>`) to specify function types. For example, `(Int, Int) => Int` represents a function that takes two integers and returns an integer.\n",
    "\n",
    "5. **Passing Functions to Standard Library Functions**: Scala's standard library provides higher-order functions like `map`, `filter`, and `reduce`, which take functions as parameters.\n",
    "\n",
    "   ```scala\n",
    "   val numbers = List(1, 2, 3, 4, 5)\n",
    "   val squaredNumbers = numbers.map(x => x * x) // squaredNumbers = List(1, 4, 9, 16, 25)\n",
    "   ```\n",
    "\n",
    "6. **Function Currying**: Scala supports currying, which allows you to create a chain of functions, each taking one parameter, from a function that takes multiple parameters.\n",
    "\n",
    "   ```scala\n",
    "   def add(x: Int)(y: Int): Int = x + y\n",
    "\n",
    "   val addTwo = add(2) _ // Partially applied function\n",
    "   val result = addTwo(3) // result = 5\n",
    "   ```\n",
    "\n",
    "Higher-order functions enable you to write more concise and expressive code in Scala, promoting functional programming principles such as immutability and referential transparency."
   ]
  }
 ],
 "metadata": {
  "language_info": {
   "name": "python"
  }
 },
 "nbformat": 4,
 "nbformat_minor": 2
}
