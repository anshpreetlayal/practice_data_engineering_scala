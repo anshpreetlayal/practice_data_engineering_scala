{
 "cells": [
  {
   "cell_type": "markdown",
   "metadata": {},
   "source": [
    "### Immutability and Pure Functions:\n",
    "\n",
    "**Immutability**:\n",
    "- Immutability is a core principle in functional programming that states once an object is created, its state cannot be changed.\n",
    "- In Scala, you can declare variables as `val` for immutable values and `var` for mutable ones. For example:\n",
    "  ```scala\n",
    "  val x = 5  // Immutable\n",
    "  var y = 10 // Mutable\n",
    "  ```\n",
    "\n",
    "**Pure Functions**:\n",
    "- Pure functions are functions that, given the same inputs, always return the same output and have no side effects.\n",
    "- They rely only on their input parameters and not on any external state.\n",
    "- Pure functions are easier to test, reason about, and parallelize.\n",
    "- Example of a pure function:\n",
    "  ```scala\n",
    "  def add(a: Int, b: Int): Int = a + b\n",
    "  ```\n",
    "\n",
    "**Benefits of Immutability and Pure Functions**:\n",
    "- **Safety**: Immutable data structures are thread-safe and reduce the risk of bugs related to shared mutable state.\n",
    "- **Reasoning**: Pure functions are easier to understand and reason about because they have no side effects.\n",
    "- **Concurrency**: Immutability simplifies concurrent programming by avoiding the need for locks or other synchronization mechanisms.\n",
    "\n",
    "\n"
   ]
  }
 ],
 "metadata": {
  "language_info": {
   "name": "python"
  }
 },
 "nbformat": 4,
 "nbformat_minor": 2
}
