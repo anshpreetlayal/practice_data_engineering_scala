{
 "cells": [
  {
   "cell_type": "markdown",
   "metadata": {},
   "source": [
    "### **Accessor Combinators**:\n",
    "\n",
    "Accessor combinators in Scala are methods or functions that allow you to access elements or properties of a collection in a convenient and concise way. They provide a functional approach to accessing collection elements, often by applying a transformation or filter operation. Here are some common accessor combinators:\n",
    "\n",
    "1. **`map`**: The `map` combinator applies a function to each element of a collection and returns a new collection with the transformed elements. For example:\n",
    "   ```scala\n",
    "   val numbers = List(1, 2, 3, 4, 5)\n",
    "   val squared = numbers.map(x => x * x)\n",
    "   ```\n",
    "\n",
    "2. **`filter`**: The `filter` combinator selects elements from a collection that satisfy a predicate function and returns a new collection with the selected elements. For example:\n",
    "   ```scala\n",
    "   val evenNumbers = numbers.filter(x => x % 2 == 0)\n",
    "   ```\n",
    "\n",
    "3. **`flatMap`**: The `flatMap` combinator applies a function to each element of a collection and flattens the results into a single collection. It is often used to handle nested collections. For example:\n",
    "   ```scala\n",
    "   val nestedNumbers = List(List(1, 2), List(3, 4), List(5, 6))\n",
    "   val flattened = nestedNumbers.flatMap(x => x)\n",
    "   ```\n",
    "\n",
    "###  **Transformative Combinators**:\n",
    "\n",
    "Transformative combinators in Scala are methods or functions that transform a collection in some way, such as adding or removing elements, grouping elements, or sorting elements. They provide a way to modify collections without mutating them directly. Here are some common transformative combinators:\n",
    "\n",
    "1. **`sortBy`**: The `sortBy` combinator sorts the elements of a collection based on a key function and returns a new collection with the sorted elements. For example:\n",
    "   ```scala\n",
    "   val names = List(\"Alice\", \"Bob\", \"Charlie\")\n",
    "   val sortedNames = names.sortBy(name => name.length)\n",
    "   ```\n",
    "\n",
    "2. **`groupBy`**: The `groupBy` combinator groups the elements of a collection based on a key function and returns a map where the keys are the result of applying the key function and the values are collections of elements with the same key. For example:\n",
    "   ```scala\n",
    "   val words = List(\"apple\", \"banana\", \"cherry\", \"avocado\")\n",
    "   val groupedByLength = words.groupBy(word => word.length)\n",
    "   ```\n",
    "\n",
    "3. **`foldLeft`**: The `foldLeft` combinator combines the elements of a collection from left to right using a binary operator and an initial value. It returns the accumulated result. For example:\n",
    "   ```scala\n",
    "   val sum = numbers.foldLeft(0)((acc, x) => acc + x)\n",
    "   ```\n",
    "\n"
   ]
  }
 ],
 "metadata": {
  "language_info": {
   "name": "python"
  }
 },
 "nbformat": 4,
 "nbformat_minor": 2
}
