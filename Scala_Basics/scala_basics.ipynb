{
 "cells": [
  {
   "cell_type": "markdown",
   "metadata": {},
   "source": [
    "#### Arithmetic and Boolean Expressions\n",
    "- Scala supports standard arithmetic operators like `+`, `-`, `*`, `/`, and `%`.\n",
    "- Boolean expressions use `true` and `false`, along with `&&` (and), `||` (or), and `!` (not) for logical operations.\n",
    "\n",
    "Example:\n",
    "```scala\n",
    "val sum = 1 + 2 * 3\n",
    "val isEven = (4 % 2 == 0) && (5 % 2 == 0)\n",
    "```"
   ]
  },
  {
   "cell_type": "markdown",
   "metadata": {},
   "source": [
    "#### Conditional Expressions (if-then-else)\n",
    "- Scala's `if-else` statement is an expression, meaning it returns a value.\n",
    "- This allows for more concise code compared to languages where `if-else` is a statement.\n",
    "\n",
    "Example:\n",
    "```scala\n",
    "val result = if (x > 0) \"positive\" else \"non-positive\"\n",
    "```"
   ]
  },
  {
   "cell_type": "markdown",
   "metadata": {},
   "source": [
    "#### Functions with Recursion\n",
    "- Scala supports recursion, where a function calls itself.\n",
    "- Recursion is a common technique in functional programming.\n",
    "\n",
    "Example:\n",
    "```scala\n",
    "def factorial(n: Int): Int = {\n",
    "  if (n <= 1) 1\n",
    "  else n * factorial(n - 1)\n",
    "}\n",
    "val fact5 = factorial(5)\n",
    "```"
   ]
  },
  {
   "cell_type": "markdown",
   "metadata": {},
   "source": [
    "\n",
    "\n",
    "#### Nesting and Lexical Scope\n",
    "- Scala allows functions and variables to be defined within other functions, creating nested scopes.\n",
    "- Inner scopes have access to variables in outer scopes.\n",
    "\n",
    "Example:\n",
    "```scala\n",
    "def outerFunction(x: Int): Int = {\n",
    "  def innerFunction(y: Int): Int = x + y\n",
    "  innerFunction(5)\n",
    "}\n",
    "val result = outerFunction(10) // Result is 15\n",
    "```"
   ]
  },
  {
   "cell_type": "markdown",
   "metadata": {},
   "source": [
    "\n",
    "#### Call by Name & Call by Value\n",
    "- Scala supports both call-by-value and call-by-name parameter evaluation strategies.\n",
    "- Call-by-value evaluates the argument before passing it to the function.\n",
    "- Call-by-name evaluates the argument only when it is used inside the function.\n",
    "\n",
    "Example:\n",
    "```scala\n",
    "def callByValue(x: Int): Unit = {\n",
    "  println(\"x1 = \" + x)\n",
    "  println(\"x2 = \" + x)\n",
    "}\n",
    "\n",
    "def callByName(x: => Int): Unit = {\n",
    "  println(\"x1 = \" + x)\n",
    "  println(\"x2 = \" + x)\n",
    "}\n",
    "\n",
    "callByValue({ println(\"evaluating\"); 10 }) // Prints \"evaluating\" once\n",
    "callByName({ println(\"evaluating\"); 10 })  // Prints \"evaluating\" twice\n",
    "```"
   ]
  }
 ],
 "metadata": {
  "language_info": {
   "name": "python"
  }
 },
 "nbformat": 4,
 "nbformat_minor": 2
}
