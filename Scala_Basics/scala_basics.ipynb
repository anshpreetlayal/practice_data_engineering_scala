{
 "cells": [
  {
   "cell_type": "markdown",
   "metadata": {},
   "source": [
    "#### Arithmetic and Boolean Expressions\n",
    "- Scala supports standard arithmetic operators like `+`, `-`, `*`, `/`, and `%`.\n",
    "- Boolean expressions use `true` and `false`, along with `&&` (and), `||` (or), and `!` (not) for logical operations.\n",
    "\n",
    "Example:\n",
    "```scala\n",
    "val sum = 1 + 2 * 3\n",
    "val isEven = (4 % 2 == 0) && (5 % 2 == 0)\n",
    "```"
   ]
  },
  {
   "cell_type": "markdown",
   "metadata": {},
   "source": [
    "#### Conditional Expressions (if-then-else)\n",
    "- Scala's `if-else` statement is an expression, meaning it returns a value.\n",
    "- This allows for more concise code compared to languages where `if-else` is a statement.\n",
    "\n",
    "Example:\n",
    "```scala\n",
    "val result = if (x > 0) \"positive\" else \"non-positive\"\n",
    "```"
   ]
  },
  {
   "cell_type": "markdown",
   "metadata": {},
   "source": [
    "#### Functions with Recursion\n",
    "- Scala supports recursion, where a function calls itself.\n",
    "- Recursion is a common technique in functional programming.\n",
    "\n",
    "Example:\n",
    "```scala\n",
    "def factorial(n: Int): Int = {\n",
    "  if (n <= 1) 1\n",
    "  else n * factorial(n - 1)\n",
    "}\n",
    "val fact5 = factorial(5)\n",
    "```"
   ]
  },
  {
   "cell_type": "markdown",
   "metadata": {},
   "source": [
    "\n",
    "\n",
    "#### Nesting and Lexical Scope\n",
    "- Scala allows functions and variables to be defined within other functions, creating nested scopes.\n",
    "- Inner scopes have access to variables in outer scopes.\n",
    "\n",
    "Example:\n",
    "```scala\n",
    "def outerFunction(x: Int): Int = {\n",
    "  def innerFunction(y: Int): Int = x + y\n",
    "  innerFunction(5)\n",
    "}\n",
    "val result = outerFunction(10) // Result is 15\n",
    "```"
   ]
  },
  {
   "cell_type": "markdown",
   "metadata": {},
   "source": [
    "\n",
    "#### Call by Name & Call by Value\n",
    "- Scala supports both call-by-value and call-by-name parameter evaluation strategies.\n",
    "- Call-by-value evaluates the argument before passing it to the function.\n",
    "- Call-by-name evaluates the argument only when it is used inside the function.\n",
    "\n",
    "Example:\n",
    "```scala\n",
    "def callByValue(x: Int): Unit = {\n",
    "  println(\"x1 = \" + x)\n",
    "  println(\"x2 = \" + x)\n",
    "}\n",
    "\n",
    "def callByName(x: => Int): Unit = {\n",
    "  println(\"x1 = \" + x)\n",
    "  println(\"x2 = \" + x)\n",
    "}\n",
    "\n",
    "callByValue({ println(\"evaluating\"); 10 }) // Prints \"evaluating\" once\n",
    "callByName({ println(\"evaluating\"); 10 })  // Prints \"evaluating\" twice\n",
    "```"
   ]
  },
  {
   "cell_type": "markdown",
   "metadata": {},
   "source": [
    "#### Substitution Model\n",
    "The substitution model is a way to understand how function calls are evaluated in programming languages. It is a simple and intuitive method that helps explain the behavior of function calls and how they interact with the rest of the program.\n",
    "\n",
    "In the substitution model, when a function is called with arguments, the function body is substituted with the actual arguments passed to the function. This substitution continues until the expression can no longer be simplified, at which point the final value is returned.\n",
    "\n",
    "Let's illustrate the substitution model with a simple example in Scala:\n",
    "\n",
    "```scala\n",
    "// Define a simple function\n",
    "def add(x: Int, y: Int): Int = {\n",
    "  x + y\n",
    "}\n",
    "\n",
    "// Call the function with arguments 3 and 4\n",
    "val result = add(3, 4)\n",
    "```\n",
    "\n",
    "Using the substitution model, we can evaluate the function call `add(3, 4)` step by step:\n",
    "\n",
    "1. Replace `add(3, 4)` with `3 + 4` (substituting arguments into the function body).\n",
    "2. Evaluate `3 + 4` to get `7`.\n",
    "3. Return `7` as the final result.\n"
   ]
  },
  {
   "cell_type": "markdown",
   "metadata": {},
   "source": [
    "### Data Types and Variables in Scala\n",
    "\n",
    "#### Type Inference\n",
    "- Scala has a powerful type inference system that can often infer the types of variables and expressions without explicit type annotations.\n",
    "- This allows for more concise code while maintaining strong typing.\n",
    "\n",
    "#### Different Data Types\n",
    "- Scala supports various data types, including:\n",
    "  - Integers: `Int`, `Long`, `Short`, `Byte`\n",
    "  - Floating-point numbers: `Float`, `Double`\n",
    "  - Booleans: `Boolean`\n",
    "  - Characters: `Char`\n",
    "  - Strings: `String`\n",
    "  - Collections: `List`, `Set`, `Map`, etc.\n",
    "\n",
    "#### Variables\n",
    "- In Scala, variables can be declared using the `var` keyword for mutable variables or `val` for immutable variables.\n",
    "- Mutable variables can have their values reassigned, while immutable variables cannot be reassigned once initialized.\n",
    "\n",
    "#### Example:\n",
    "```scala\n",
    "// Type inference\n",
    "val x = 42 // Scala infers x as an Int\n",
    "val y: Double = 3.14 // Explicitly specify y as a Double\n",
    "\n",
    "// Different data types\n",
    "val name: String = \"Alice\"\n",
    "val age: Int = 30\n",
    "val isStudent: Boolean = true\n",
    "\n",
    "// Variables\n",
    "var mutableVar: Int = 10\n",
    "mutableVar = 20 // Allowed for mutable variables\n",
    "\n",
    "val immutableVar: Int = 100\n",
    "// immutableVar = 200 // Error: Cannot reassign immutable variable\n",
    "```\n",
    "\n",
    "#### Summary:\n",
    "- Scala's type inference reduces the need for explicit type annotations.\n",
    "- Scala supports various data types and provides flexibility in working with them.\n",
    "- Understanding the difference between mutable (`var`) and immutable (`val`) variables is important for writing safe and maintainable code."
   ]
  }
 ],
 "metadata": {
  "language_info": {
   "name": "python"
  }
 },
 "nbformat": 4,
 "nbformat_minor": 2
}
