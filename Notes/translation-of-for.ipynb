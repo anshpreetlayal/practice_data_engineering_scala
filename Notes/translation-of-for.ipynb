{
 "cells": [
  {
   "cell_type": "markdown",
   "metadata": {},
   "source": [
    "## Translation of for with: `map`, `flatMap`, `withFilter`\n",
    "\n",
    "### **`map`:**\n",
    "- **Purpose:** `map` is used to transform each element of a collection or monadic context into another element.\n",
    "- **Usage:** It takes a function that specifies how to transform each element and returns a new collection or monadic context with the transformed elements.\n",
    "\n",
    "**`map` with `for` expressions:**\n",
    "- `map` is used to transform each element of a collection or monadic context.\n",
    "- In a `for` expression, you can use `map` to transform each element and yield a new collection or monadic context.\n",
    "\n",
    "**Examples:**\n",
    "\n",
    "```scala\n",
    "// Using map directly\n",
    "val numbers = Seq(1, 2, 3, 4)\n",
    "val doubled = numbers.map(_ * 2) // Result: Seq(2, 4, 6, 8)\n",
    "\n",
    "// Using map in a for expression\n",
    "val numbers = Seq(1, 2, 3, 4, 5)\n",
    "val squaredNumbers = for {\n",
    "  n <- numbers\n",
    "} yield n * n\n",
    "// Result: Seq(1, 4, 9, 16, 25)\n",
    "```\n",
    "\n",
    "\n",
    "\n",
    "\n",
    "\n",
    "### **`flatMap`:**\n",
    "- **Purpose:** `flatMap` is used to transform each element into a sequence of elements and flatten the result.\n",
    "- **Usage:** It takes a function that transforms each element into a sequence (or monadic context) and returns a single sequence (or monadic context) containing all the elements.\n",
    "\n",
    "**`flatMap` with `for` expressions:**\n",
    "- `flatMap` is used to transform each element into a sequence of elements and flatten the result.\n",
    "- In a `for` expression, you can use `flatMap` to transform each element into a sequence and yield a single, flattened collection.\n",
    "\n",
    "**Example:**\n",
    "```scala\n",
    "val words = Seq(\"Hello\", \"World\")\n",
    "val letters = words.flatMap(_.toList)\n",
    "```\n",
    "This will create a new `Seq('H', 'e', 'l', 'l', 'o', 'W', 'o', 'r', 'l', 'd')` by flattening the individual characters of each word.\n",
    "\n",
    "\n",
    "\n",
    "\n",
    "\n"
   ]
  }
 ],
 "metadata": {
  "language_info": {
   "name": "python"
  }
 },
 "nbformat": 4,
 "nbformat_minor": 2
}
