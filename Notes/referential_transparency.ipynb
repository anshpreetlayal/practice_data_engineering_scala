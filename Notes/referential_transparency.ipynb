{
 "cells": [
  {
   "cell_type": "markdown",
   "metadata": {},
   "source": [
    "### **Referential transparency:**\n",
    "\n",
    "Referential transparency is a key concept in functional programming that states that an expression can be replaced with its value without changing the program's behavior. This means that given the same inputs, a function will always return the same output, and the function's result can be substituted for its call without affecting the program's correctness.\n",
    "\n",
    "### Explanation\n",
    "\n",
    "1. **Pure Functions:**\n",
    "   - Referential transparency is closely related to the concept of pure functions, which have no side effects and always return the same result for the same inputs.\n",
    "   - Pure functions are deterministic and rely only on their inputs to produce outputs, making them easy to reason about and test.\n",
    "\n",
    "2. **Example:**\n",
    "   ```scala\n",
    "   // Impure function with side effects\n",
    "   var x = 0\n",
    "   def impureFunction(y: Int): Int = {\n",
    "     x += y\n",
    "     x\n",
    "   }\n",
    "\n",
    "   // Pure function\n",
    "   def pureFunction(y: Int): Int = y * 2\n",
    "\n",
    "   // Referential transparency\n",
    "   val a = impureFunction(1) // 1\n",
    "   val b = impureFunction(1) // 2\n",
    "   val c = pureFunction(1)   // 2\n",
    "   val d = pureFunction(1)   // 2\n",
    "     //In this example, `impureFunction` is not referentially transparent because its result depends on and modifies the external state (`x`). On the other hand, `pureFunction` is referentially transparent because it depends only on its input `y` and has no side effects.\n",
    "   ```\n",
    "\n",
    "\n",
    "\n",
    "3. **Benefits:**\n",
    "   - Referential transparency enables equational reasoning, allowing developers to understand and reason about code by replacing expressions with their values.\n",
    "   - It simplifies testing and debugging, as functions can be tested in isolation without the need to consider external state or side effects.\n",
    "\n",
    "4. **Immutability:**\n",
    "   - Immutability is closely related to referential transparency, as immutable data structures and values ensure that the same inputs always produce the same outputs.\n",
    "   - Immutable data structures prevent unintended side effects and make it easier to reason about code."
   ]
  }
 ],
 "metadata": {
  "language_info": {
   "name": "python"
  }
 },
 "nbformat": 4,
 "nbformat_minor": 2
}
