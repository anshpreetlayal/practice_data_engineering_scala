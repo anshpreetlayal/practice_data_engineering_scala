{
 "cells": [
  {
   "cell_type": "markdown",
   "metadata": {},
   "source": [
    "## **`Infinite Sequences`**\n",
    "In Scala, infinite sequences are sequences that are potentially unlimited in length. They are typically implemented using lazy evaluation to avoid the need to compute all elements upfront, which would be impractical for infinite sequences. Infinite sequences are useful for representing concepts like streams of data, sequences with unknown or unbounded lengths, or mathematical sequences. They allow you to work with potentially infinite data structures in a memory-efficient and expressive way.\n",
    "\n",
    "One common way to create infinite sequences in Scala is to use the `LazyList` class. `LazyList` is similar to `Stream` but designed for lazy evaluation. It allows you to define sequences that are computed only when their values are needed.\n",
    "\n",
    "1. **Generating Infinite Sequences:**\n",
    "   - You can use the `LazyList` class to create infinite sequences. For example, to create a sequence of all natural numbers starting from 1:\n",
    "     ```scala\n",
    "     val naturalNumbers = LazyList.from(1)\n",
    "     ```\n",
    "\n",
    "2. **Filtering Infinite Sequences:**\n",
    "   - You can filter an infinite sequence to create a new sequence. For example, to create a sequence of all even numbers:\n",
    "     ```scala\n",
    "     val evenNumbers = naturalNumbers.filter(_ % 2 == 0)\n",
    "     ```\n",
    "\n",
    "3. **Mapping Infinite Sequences:**\n",
    "   - You can map over an infinite sequence to transform its elements. For example, to create a sequence of squares of natural numbers:\n",
    "     ```scala\n",
    "     val squares = naturalNumbers.map(n => n * n)\n",
    "     ```\n",
    "\n",
    "4. **Taking Elements from Infinite Sequences:**\n",
    "   - You can take a specified number of elements from an infinite sequence. For example, to take the first 10 even numbers:\n",
    "     ```scala\n",
    "     val firstTenEvenNumbers = evenNumbers.take(10)\n",
    "     ```\n",
    "\n",
    "5. **Summing Elements of Infinite Sequences:**\n",
    "   - You can sum the elements of an infinite sequence. For example, to calculate the sum of the first 100 natural numbers:\n",
    "     ```scala\n",
    "     val sum = naturalNumbers.take(100).sum\n",
    "     ```\n",
    "\n",
    "6. **Combining Infinite Sequences:**\n",
    "   - You can combine multiple infinite sequences. For example, to create a sequence where each element is the sum of the corresponding elements from two sequences:\n",
    "     ```scala\n",
    "     val sequence1 = LazyList.from(1)\n",
    "     val sequence2 = LazyList.from(10)\n",
    "     val combinedSequence = sequence1.zip(sequence2).map { case (a, b) => a + b }\n",
    "     ```\n",
    "\n",
    "7. **Recursive Infinite Sequences:**\n",
    "   - You can define recursive infinite sequences using lazy evaluation. For example, to create a sequence where each element is the sum of the previous two elements (similar to the Fibonacci sequence):\n",
    "     ```scala\n",
    "     lazy val fibonacci: LazyList[Int] = 0 #:: 1 #:: fibonacci.zip(fibonacci.tail).map { case (a, b) => a + b }\n",
    "     ```\n",
    "\n",
    "8. **Using Streams for Infinite Sequences:**\n",
    "   - Scala also provides the `Stream` class, which is similar to `LazyList` and can be used to create and manipulate infinite sequences in a similar way.\n"
   ]
  }
 ],
 "metadata": {
  "language_info": {
   "name": "python"
  }
 },
 "nbformat": 4,
 "nbformat_minor": 2
}
