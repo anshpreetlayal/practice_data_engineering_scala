{
 "cells": [
  {
   "cell_type": "markdown",
   "metadata": {},
   "source": [
    "### **Reduce Expressions Using the Substitution Model**\n",
    "\n",
    "The substitution model is a way to evaluate expressions in programming languages by substituting arguments into function bodies. Reducing expressions using the substitution model involves repeatedly applying this substitution process until a final value is obtained.\n",
    "\n",
    "#### Example 1: Addition of Two Numbers\n",
    "\n",
    "```scala\n",
    "// Original expression: 1 + 2\n",
    "val result = 1 + 2\n",
    "println(result) // Output: 3\n",
    "```\n",
    "1. Start with the expression `1 + 2`.\n",
    "2. Substitute `1` for the first operand and `2` for the second operand.\n",
    "3. Evaluate the expression to get the result `3`.\n",
    "\n",
    "#### Example 2: Nested Expressions\n",
    "\n",
    "```scala\n",
    "// Original expression: (1 + 2) * 3\n",
    "val result = (1 + 2) * 3\n",
    "println(result) // Output: 9\n",
    "```\n",
    "1. Start with the expression `(1 + 2) * 3`.\n",
    "2. Substitute `1 + 2` for the inner parentheses, yielding `3 * 3`.\n",
    "3. Evaluate the expression to get the result `9`.\n",
    "\n",
    "#### Example 3: Function Application\n",
    "\n",
    "```scala\n",
    "// Original expression: add(1, 2)\n",
    "def add(a: Int, b: Int): Int = a + b\n",
    "val result = add(1, 2)\n",
    "println(result) // Output: 3\n",
    "```\n",
    "1. Start with the expression `add(1, 2)`.\n",
    "2. Substitute `1` for `a` and `2` for `b` in the function body, yielding `1 + 2`.\n",
    "3. Evaluate the expression to get the result `3`.\n",
    "\n",
    "\n"
   ]
  }
 ],
 "metadata": {
  "language_info": {
   "name": "python"
  }
 },
 "nbformat": 4,
 "nbformat_minor": 2
}
