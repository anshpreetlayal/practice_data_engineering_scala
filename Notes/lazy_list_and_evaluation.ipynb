{
 "cells": [
  {
   "cell_type": "markdown",
   "metadata": {},
   "source": [
    "## **`Lazy Lists (List Range, Lazy Range):`**\n",
    "Lazy lists in Scala are lists that are evaluated lazily, meaning that the elements are computed only when they are needed. This allows for the representation of infinite sequences and can be particularly useful when dealing with potentially large or infinite collections.\n",
    "\n",
    "In Scala, you can create a lazy list using the `LazyList` class. An example of how you can create a lazy list that represents an infinite sequence of even numbers:\n",
    "\n",
    "```scala\n",
    "val evenNumbers = LazyList.from(0).filter(_ % 2 == 0)\n",
    "```\n",
    "In this example, `LazyList.from(0)` creates a lazy list starting from 0, and `filter(_ % 2 == 0)` filters out only the even numbers. Since the list is lazy, it will only compute the next element when needed, allowing you to work with infinite sequences in a memory-efficient manner.\n",
    "\n",
    "Another way to create a lazy list is using the `#::` operator, which is similar to `cons` in traditional lists. Here's an example:\n",
    "\n",
    "```scala\n",
    "val ones: LazyList[Int] = 1 #:: ones\n",
    "```\n",
    "In this example, `ones` is a lazy list where each element is 1, creating an infinite sequence of ones.\n",
    "Lazy lists are particularly useful when you need to work with sequences that are potentially infinite or when you want to delay the computation of elements until they are needed.\n",
    "\n",
    "\n",
    "## **`Lazy Evaluation:`**\n",
    "Lazy evaluation is a strategy where expressions are not evaluated until their results are actually needed. This can improve performance by avoiding unnecessary computations, especially in cases where some parts of the computation may not be needed at all.\n",
    "\n",
    "In Scala, lazy evaluation is supported through the use of the `lazy` keyword. When a value is declared as `lazy`, its initialization is deferred until it is first accessed. Here's an example:\n",
    "\n",
    "```scala\n",
    "lazy val expensiveComputation: Int = {\n",
    "  println(\"Computing...\")\n",
    "  42\n",
    "}\n",
    "// In this example, the message \"Computing...\" will only be printed when `expensiveComputation` is first accessed. Subsequent accesses will use the cached result, avoiding the need to recompute the value.\n",
    "// Lazy evaluation can be particularly useful for optimizing performance in cases where the computation is expensive and its result may not always be needed. By deferring the computation until it is  actually needed, lazy evaluation can reduce unnecessary work and improve the efficiency of your code.\n",
    "// The expensive computation is not performed until the value is accessed\n",
    "println(expensiveComputation)\n",
    "```"
   ]
  }
 ],
 "metadata": {
  "language_info": {
   "name": "python"
  }
 },
 "nbformat": 4,
 "nbformat_minor": 2
}
