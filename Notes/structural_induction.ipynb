{
 "cells": [
  {
   "cell_type": "markdown",
   "metadata": {},
   "source": [
    "## `Structural Induction`\n",
    "Structural induction is a proof technique used to demonstrate properties of recursively defined data structures, such as trees. In Scala, trees are commonly represented using case classes that recursively reference themselves. \n",
    "\n",
    "Consider a binary tree defined as:\n",
    "\n",
    "```scala\n",
    "sealed trait Tree[A]\n",
    "case class Node[A](value: A, left: Tree[A], right: Tree[A]) extends Tree[A]\n",
    "case class Leaf[A](value: A) extends Tree[A]\n",
    "case object Empty extends Tree[Nothing]\n",
    "```\n",
    "Here, `Node` represents a node with two children, `left` and `right`, and `Leaf` represents a leaf node with no children. `Empty` is used to denote an empty tree.\n",
    "\n",
    "To apply structural induction to trees, prove properties by induction on the structure of the tree. Here's a general approach:\n",
    "\n",
    "1. **Base Case:** Show that the property holds for the base cases, such as an empty tree (`Empty`) or a leaf node (`Leaf`).\n",
    "\n",
    "2. **Inductive Step:** Assume that the property holds for subtrees (`left` and `right`), and show that it holds for the entire tree (`Node`).\n",
    "\n",
    "\n",
    "\n"
   ]
  }
 ],
 "metadata": {
  "language_info": {
   "name": "python"
  }
 },
 "nbformat": 4,
 "nbformat_minor": 2
}
