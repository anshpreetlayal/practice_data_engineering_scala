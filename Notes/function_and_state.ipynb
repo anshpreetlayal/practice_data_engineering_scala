{
 "cells": [
  {
   "cell_type": "markdown",
   "metadata": {},
   "source": [
    "### Function and State in Scala\n",
    "\n",
    "In Scala, functions can encapsulate and modify state, allowing for stateful behavior within functional programming paradigms. This is achieved through the use of closures, which capture the surrounding state and can modify it over time. Stateful functions maintain internal state that can be updated and accessed through their parameters or return values.\n",
    "\n",
    "### Explanation\n",
    "\n",
    "1. **Encapsulation of State:**\n",
    "   - Functions in Scala can encapsulate state by capturing variables from their enclosing scope. These variables become part of the function's closure and can be accessed and modified within the function.\n",
    "   - Example:\n",
    "     ```scala\n",
    "     var count = 0\n",
    "     val incrementAndGet: () => Int = () => {\n",
    "       count += 1\n",
    "       count\n",
    "     }\n",
    "\n",
    "     println(incrementAndGet()) // Output: 1\n",
    "     println(incrementAndGet()) // Output: 2\n",
    "     ```\n",
    "\n",
    "2. **Modification of State:**\n",
    "   - Stateful functions can modify their internal state, allowing them to track and update values over time. This can be useful for implementing state machines, counters, or any logic that requires maintaining state.\n",
    "   - Example:\n",
    "     ```scala\n",
    "     val adder: Int => Int = {\n",
    "       var sum = 0\n",
    "       (x: Int) => {\n",
    "         sum += x\n",
    "         sum\n",
    "       }\n",
    "     }\n",
    "\n",
    "     println(adder(1)) // Output: 1\n",
    "     println(adder(2)) // Output: 3\n",
    "     println(adder(3)) // Output: 6\n",
    "     ```\n",
    "\n",
    "3. **Statefulness and Functional Programming:**\n",
    "   - While stateful functions provide a way to encapsulate and modify state, they can introduce complexity and make reasoning about code more difficult, especially in concurrent or parallel environments.\n",
    "   - It is generally recommended to minimize mutable state and use immutable data structures and pure functions whenever possible to ensure referential transparency and avoid issues related to shared mutable state.\n",
    "\n",
    "\n",
    "\n"
   ]
  }
 ],
 "metadata": {
  "language_info": {
   "name": "python"
  }
 },
 "nbformat": 4,
 "nbformat_minor": 2
}
