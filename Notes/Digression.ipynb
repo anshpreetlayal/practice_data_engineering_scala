{
 "cells": [
  {
   "cell_type": "markdown",
   "metadata": {},
   "source": [
    "### **Digression: Retroactive Extension**\n",
    "\n",
    "Retroactive extension in Scala allows you to add new methods or functionalities to existing types, even if you don't have access to their source code. This feature is particularly useful for extending the functionality of standard library types or third-party classes.\n",
    "\n",
    "- Retroactive extension is based on Scala's implicit conversions and implicit classes.\n",
    "- It enables you to extend existing types without modifying their original definitions.\n",
    "- This feature promotes a more flexible and modular design by allowing you to add domain-specific methods to existing types.\n",
    "\n",
    "#### Usage:\n",
    "\n",
    "1. **Implicit Classes for Retroactive Extension:**\n",
    "\n",
    "   ```scala\n",
    "   // Existing type\n",
    "   case class Person(name: String, age: Int)\n",
    "\n",
    "   // Retroactively extending Person with new methods\n",
    "   implicit class PersonExtension(person: Person) {\n",
    "     def greet(): String = s\"Hello, my name is ${person.name}!\"\n",
    "   }\n",
    "\n",
    "   val john = Person(\"John\", 30)\n",
    "   println(john.greet()) // Output: Hello, my name is John!\n",
    "   ```\n",
    "\n",
    "   In this example, `PersonExtension` is an implicit class that adds a `greet` method to the `Person` class, allowing you to call `john.greet()`.\n",
    "\n",
    "2. **Implicit Conversions for Retroactive Extension:**\n",
    "\n",
    "   ```scala\n",
    "   // Existing type\n",
    "   case class Rectangle(width: Double, height: Double)\n",
    "\n",
    "   // Retroactively extending Rectangle with a new method\n",
    "   implicit def rectangleToArea(rectangle: Rectangle): Double = rectangle.width * rectangle.height\n",
    "\n",
    "   val rectangle = Rectangle(5.0, 10.0)\n",
    "   val area: Double = rectangle // Implicit conversion to calculate area\n",
    "\n",
    "   println(area) // Output: 50.0\n",
    "\n",
    "    //`rectangleToArea` is an implicit conversion method that allows you to implicitly convert a `Rectangle` instance to its area (`Double`).\n",
    "   ```"
   ]
  }
 ],
 "metadata": {
  "language_info": {
   "name": "python"
  }
 },
 "nbformat": 4,
 "nbformat_minor": 2
}
